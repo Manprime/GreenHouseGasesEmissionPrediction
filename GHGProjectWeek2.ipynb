{
 "cells": [
  {
   "cell_type": "code",
   "execution_count": null,
   "id": "3f980667-f61f-4abf-b1f6-918954e813d8",
   "metadata": {},
   "outputs": [],
   "source": [
    "import pandas as pd\n",
    "import numpy as np\n",
    "import seaborn as sns\n",
    "import matplotlib.pyplot as plt\n",
    "\n",
    "from sklearn.model_selection import train_test_split, GridSearchCV\n",
    "from sklearn.preprocessing import StandardScaler\n",
    "from sklearn.ensemble import RandomForestRegressor\n",
    "from sklearn.metrics import mean_squared_error, r2_score\n",
    "import joblib"
   ]
  },
  {
   "cell_type": "code",
   "execution_count": null,
   "id": "04f1db67-de5a-4e43-b1dc-8104a47fe89e",
   "metadata": {},
   "outputs": [],
   "source": [
    "#path of file\n",
    "#excel_file = \"./EmissionsDataset.xlsx\"\n",
    "excel_file= \"D:/EdunetInternship/EmissionsDataset.xlsx\"\n",
    "years = range(2010, 2017)"
   ]
  },
  {
   "cell_type": "code",
   "execution_count": null,
   "id": "8755ff4b-b77f-443d-b983-045bc929d531",
   "metadata": {},
   "outputs": [],
   "source": [
    "years[2]"
   ]
  },
  {
   "cell_type": "code",
   "execution_count": null,
   "id": "ebb6c249-f671-41da-bf69-aaf4abd3a65e",
   "metadata": {},
   "outputs": [],
   "source": [
    "df_1 = pd.read_excel(excel_file, sheet_name=f'{years[0]}_Detail_Commodity')\n",
    "df_1.head()"
   ]
  },
  {
   "cell_type": "code",
   "execution_count": null,
   "id": "0f73f59f-6d58-4b17-b740-5ae69b2d1efb",
   "metadata": {},
   "outputs": [],
   "source": [
    "df_2 = pd.read_excel(excel_file, sheet_name=f'{years[0]}_Detail_Industry')\n",
    "df_2.head()"
   ]
  },
  {
   "cell_type": "code",
   "execution_count": null,
   "id": "741667ed-99d4-4af9-a678-6a9710a41ad8",
   "metadata": {},
   "outputs": [],
   "source": [
    "all_data = []"
   ]
  },
  {
   "cell_type": "code",
   "execution_count": null,
   "id": "35690e40-3620-448e-b0c4-cfea5f9a4fb0",
   "metadata": {},
   "outputs": [],
   "source": [
    "for year in years:\n",
    "    try:\n",
    "        df_com = pd.read_excel(excel_file, sheet_name=f'{year}_Detail_Commodity')\n",
    "        df_ind = pd.read_excel(excel_file, sheet_name=f'{year}_Detail_Industry')\n",
    "        \n",
    "        df_com['Source'] = 'Commodity'\n",
    "        df_ind['Source'] = 'Industry'\n",
    "        df_com['Year'] = df_ind['Year'] = year\n",
    "        \n",
    "        df_com.columns = df_com.columns.str.strip()\n",
    "        df_ind.columns = df_ind.columns.str.strip()\n",
    "\n",
    "        df_com.rename(columns={\n",
    "            'Commodity Code': 'Code',\n",
    "            'Commodity Name': 'Name'\n",
    "        }, inplace=True)\n",
    "        \n",
    "        df_ind.rename(columns={\n",
    "            'Industry Code': 'Code',\n",
    "            'Industry Name': 'Name'\n",
    "        }, inplace=True)\n",
    "        \n",
    "        all_data.append(pd.concat([df_com, df_ind], ignore_index=True))\n",
    "        \n",
    "    except Exception as e:\n",
    "        print(f\"Error processing year {year}: {e}\")\n"
   ]
  },
  {
   "cell_type": "code",
   "execution_count": null,
   "id": "5309c6f4-5c2c-444a-aa5f-6d8df3294322",
   "metadata": {},
   "outputs": [],
   "source": [
    "all_data[3]"
   ]
  },
  {
   "cell_type": "code",
   "execution_count": null,
   "id": "bcbe2670-683a-47b2-a357-4a6f7327cd7e",
   "metadata": {},
   "outputs": [],
   "source": [
    "len(all_data)"
   ]
  },
  {
   "cell_type": "code",
   "execution_count": null,
   "id": "16674915-2ef0-4e2c-9529-a3f9d2e06d7d",
   "metadata": {},
   "outputs": [],
   "source": [
    "df = pd.concat(all_data, ignore_index=True)\n",
    "df.head(10)"
   ]
  },
  {
   "cell_type": "code",
   "execution_count": null,
   "id": "849aef28-9539-4703-9b64-afed139f609d",
   "metadata": {},
   "outputs": [],
   "source": [
    "len(df)"
   ]
  },
  {
   "cell_type": "code",
   "execution_count": null,
   "id": "8d03d7d2-fffe-4210-9d55-8025905b99ed",
   "metadata": {},
   "outputs": [],
   "source": [
    "df.columns"
   ]
  },
  {
   "cell_type": "code",
   "execution_count": null,
   "id": "3350d15c-022c-4286-aa00-82f387a1b970",
   "metadata": {},
   "outputs": [],
   "source": [
    "df.isnull().sum()"
   ]
  },
  {
   "cell_type": "code",
   "execution_count": null,
   "id": "b163b482-8b5d-4b21-b420-ee14b702cb17",
   "metadata": {},
   "outputs": [],
   "source": [
    "# As there is no data avaialble in Unnamed coulmn so we will drop the column\n",
    "df.drop(columns=['Unnamed: 7'],inplace=True)"
   ]
  },
  {
   "cell_type": "code",
   "execution_count": null,
   "id": "45010bfa-107e-4bd1-a66c-d35355be44b0",
   "metadata": {},
   "outputs": [],
   "source": [
    "df.columns"
   ]
  },
  {
   "cell_type": "code",
   "execution_count": null,
   "id": "cef4e8c5-d2a0-4978-8d04-d1e6a5636e6c",
   "metadata": {},
   "outputs": [],
   "source": [
    "print(df.info())   # Checking data types and non-null counts "
   ]
  },
  {
   "cell_type": "code",
   "execution_count": null,
   "id": "10007b0b-24e3-486c-baaf-fc1da7eff30c",
   "metadata": {},
   "outputs": [],
   "source": [
    "df.describe().T # Checking summary statistics "
   ]
  },
  {
   "cell_type": "code",
   "execution_count": null,
   "id": "0fdc0a09-d00e-440f-aeca-4ae0b8b62dbf",
   "metadata": {},
   "outputs": [],
   "source": [
    "\n"
   ]
  },
  {
   "cell_type": "code",
   "execution_count": null,
   "id": "624b77af-71b4-4601-a953-227f0a3cb706",
   "metadata": {},
   "outputs": [],
   "source": [
    "\n",
    "df.isnull().sum() # Checking for null values in each column "
   ]
  },
  {
   "cell_type": "code",
   "execution_count": null,
   "id": "2784ad1a-fe8e-4300-92e1-ba218b843f5b",
   "metadata": {},
   "outputs": [],
   "source": [
    "\n"
   ]
  },
  {
   "cell_type": "code",
   "execution_count": null,
   "id": "a7eb82d4-d3c4-401f-89c2-7a0557e17a8e",
   "metadata": {},
   "outputs": [],
   "source": [
    "# Check categorical variables\n",
    "print(df['Substance'].value_counts())"
   ]
  },
  {
   "cell_type": "code",
   "execution_count": null,
   "id": "0a90c03e-b869-420e-8fa6-361fc54f10f8",
   "metadata": {},
   "outputs": [],
   "source": [
    "print(df['Unit'].value_counts()) # Checking unique values in 'Unit' with count "
   ]
  },
  {
   "cell_type": "code",
   "execution_count": null,
   "id": "8f1cd191-f99e-45c8-b7a3-ba7fbeea4e16",
   "metadata": {},
   "outputs": [],
   "source": [
    "print(df['Source'].value_counts()) # Checking unique values in 'Source' with count "
   ]
  },
  {
   "cell_type": "code",
   "execution_count": null,
   "id": "d0f05c70-72b0-44ac-853e-1a538c1c5e55",
   "metadata": {},
   "outputs": [],
   "source": [
    "df['Substance'].unique() # Checking unique values in 'Substance' "
   ]
  },
  {
   "cell_type": "code",
   "execution_count": null,
   "id": "4cebd33b-50ae-4283-9644-eb26b19e5169",
   "metadata": {},
   "outputs": [],
   "source": [
    "substance_map={'carbon dioxide':0, 'methane':1, 'nitrous oxide':2, 'other GHGs':3} # Mapping substances to integers "
   ]
  },
  {
   "cell_type": "code",
   "execution_count": null,
   "id": "c4c8db5e-9510-485a-b041-fb846f400907",
   "metadata": {},
   "outputs": [],
   "source": [
    "df['Substance']=df['Substance'].map(substance_map) "
   ]
  },
  {
   "cell_type": "code",
   "execution_count": null,
   "id": "5f5b23b7-c971-4c13-b5e2-21399fb3ea9e",
   "metadata": {},
   "outputs": [],
   "source": [
    "df['Substance'].unique() # Checking unique values in 'Substance' "
   ]
  },
  {
   "cell_type": "code",
   "execution_count": null,
   "id": "f4d0fc25-5366-4f4c-9a1c-99d9ec2376d0",
   "metadata": {},
   "outputs": [],
   "source": [
    "print(df['Unit'].unique()) # Checking unique values in 'Unit' "
   ]
  },
  {
   "cell_type": "code",
   "execution_count": null,
   "id": "8683d759-21fc-4ee0-85cc-415aa719b331",
   "metadata": {},
   "outputs": [],
   "source": [
    "unit_map={'kg/2018 USD, purchaser price':0, 'kg CO2e/2018 USD, purchaser price':1} # Mapping units to integers "
   ]
  },
  {
   "cell_type": "code",
   "execution_count": null,
   "id": "6c63050e-9395-45fd-ba9a-989b132e634e",
   "metadata": {},
   "outputs": [],
   "source": [
    "df['Unit']=df['Unit'].map(unit_map)\n",
    "print(df['Unit'].unique()) # Checking unique values in 'Unit' "
   ]
  },
  {
   "cell_type": "code",
   "execution_count": null,
   "id": "58d472de-011e-49fc-8b9d-057852deb338",
   "metadata": {},
   "outputs": [],
   "source": [
    "print(df['Source'].unique()) # Checking unique values in 'Source' "
   ]
  },
  {
   "cell_type": "code",
   "execution_count": null,
   "id": "1a150fb4-757a-480e-851b-28a383181a5e",
   "metadata": {},
   "outputs": [],
   "source": [
    "source_map={'Commodity':0, 'Industry':1} # Mapping sources to integers \n",
    "df['Source']=df['Source'].map(source_map)   # applying the mapping to 'Source' column \n",
    "print(df['Source'].unique()) # Checking unique values in 'Source' "
   ]
  },
  {
   "cell_type": "code",
   "execution_count": null,
   "id": "4d1c72c1-50e3-4062-878f-ca29b8d820f1",
   "metadata": {},
   "outputs": [],
   "source": [
    "df.info() # Checking data types and non-null counts after mapping "
   ]
  },
  {
   "cell_type": "code",
   "execution_count": null,
   "id": "7b4db1f1-1c13-4a29-b5c5-312d409c5ec0",
   "metadata": {},
   "outputs": [],
   "source": [
    "df.Code.unique() # Checking unique values in 'Code' df['Code']"
   ]
  },
  {
   "cell_type": "code",
   "execution_count": null,
   "id": "747e6736-327f-4427-836e-2657baac6b71",
   "metadata": {},
   "outputs": [],
   "source": [
    "df.Name.unique() # Checking unique values in 'Name' \n",
    " "
   ]
  },
  {
   "cell_type": "code",
   "execution_count": null,
   "id": "2a0f9095-df46-411b-a7a6-1b067b49980c",
   "metadata": {},
   "outputs": [],
   "source": [
    "len(df.Name.unique()) # Checking number of unique values in 'Name'"
   ]
  },
  {
   "cell_type": "code",
   "execution_count": null,
   "id": "496458aa-efff-4edd-95c1-ddfd50676f85",
   "metadata": {},
   "outputs": [],
   "source": [
    "top_emitters = df[['Name', 'Supply Chain Emission Factors with Margins']].groupby('Name').mean().sort_values(\n",
    "    'Supply Chain Emission Factors with Margins', ascending=False).head(10) \n",
    "\n",
    "# Resetting index for better plotting\n",
    "top_emitters = top_emitters.reset_index()"
   ]
  },
  {
   "cell_type": "code",
   "execution_count": null,
   "id": "075e4b37-d5bf-49c7-8124-20e0319472d9",
   "metadata": {},
   "outputs": [],
   "source": [
    "top_emitters"
   ]
  },
  {
   "cell_type": "code",
   "execution_count": null,
   "id": "701328f8-3b6a-4bcc-8deb-afa62b25264d",
   "metadata": {},
   "outputs": [],
   "source": [
    "# Plotting the top 10 emitting industries\n",
    "\n",
    "\n",
    "plt.figure(figsize=(10,6))\n",
    "# Example: Top emitting industries (already grouped)\n",
    "sns.barplot(\n",
    "    x='Supply Chain Emission Factors with Margins',\n",
    "    y='Name',\n",
    "    data=top_emitters,\n",
    "    hue='Name',\n",
    "    palette='viridis'  # Use 'Blues', 'viridis', etc., for other color maps\n",
    ")\n",
    "\n",
    "# Add ranking labels (1, 2, 3...) next to bars\n",
    "for i, (value, name) in enumerate(zip(top_emitters['Supply Chain Emission Factors with Margins'], top_emitters.index), start=1):\n",
    "    plt.text(value + 0.01, i - 1, f'#{i}', va='center', fontsize=11, fontweight='bold', color='black')\n",
    "\n",
    "plt.title('Top 10 Emitting Industries', fontsize=14, fontweight='bold') # Title of the plot \n",
    "plt.xlabel('Emission Factor (kg CO2e/unit)') # X-axis label\n",
    "plt.ylabel('Industry') # Y-axis label\n",
    "plt.grid(axis='x', linestyle='--', alpha=0.6) # Adding grid lines for better readability\n",
    "plt.tight_layout() # Adjust layout to prevent overlap\n",
    "\n",
    "plt.show()"
   ]
  },
  {
   "cell_type": "code",
   "execution_count": null,
   "id": "f9915de4-c2a5-481a-8d26-c6278811d8d9",
   "metadata": {},
   "outputs": [],
   "source": [
    "\n",
    "df.drop(columns=['Name','Code','Year'], inplace=True) "
   ]
  },
  {
   "cell_type": "code",
   "execution_count": null,
   "id": "b9bcdd77-d71e-4434-bba4-b0a32202b246",
   "metadata": {},
   "outputs": [],
   "source": [
    "df.head(1)"
   ]
  },
  {
   "cell_type": "code",
   "execution_count": null,
   "id": "33318d69-718c-45d1-b9cc-1fde15baf053",
   "metadata": {},
   "outputs": [],
   "source": [
    "df.shape"
   ]
  },
  {
   "cell_type": "code",
   "execution_count": null,
   "id": "f353ece8-b342-44f3-8646-37b88027db69",
   "metadata": {},
   "outputs": [],
   "source": [
    "df.columns"
   ]
  },
  {
   "cell_type": "code",
   "execution_count": null,
   "id": "a5a53ed9-e636-4767-9ea9-6ffaeaf86a28",
   "metadata": {},
   "outputs": [],
   "source": [
    "X = df.drop(columns=['Supply Chain Emission Factors with Margins']) # Feature set excluding the target variable\n",
    "y = df['Supply Chain Emission Factors with Margins'] # Target variable \n",
    "X.head()"
   ]
  },
  {
   "cell_type": "code",
   "execution_count": null,
   "id": "800372d0-f6f7-4b3a-929b-1cbd802ea76e",
   "metadata": {},
   "outputs": [],
   "source": [
    "y.head()"
   ]
  },
  {
   "cell_type": "code",
   "execution_count": null,
   "id": "f834a08b-ca95-448f-850b-a2fc6669c3ac",
   "metadata": {},
   "outputs": [],
   "source": [
    "# Count plot for Substance\n",
    "plt.figure(figsize=(6, 3))\n",
    "sns.countplot(x=df[\"Substance\"])\n",
    "plt.title(\"Count Plot: Substance\")\n",
    "plt.xticks()\n",
    "plt.tight_layout()\n",
    "plt.show()"
   ]
  },
  {
   "cell_type": "code",
   "execution_count": null,
   "id": "11249620-1de4-4384-96e9-30ac91346798",
   "metadata": {},
   "outputs": [],
   "source": [
    "# Count plot for Unit\n",
    "plt.figure(figsize=(6, 3))\n",
    "sns.countplot(x=df[\"Unit\"])\n",
    "plt.title(\"Count Plot: Unit\")\n",
    "plt.tight_layout()\n",
    "plt.show()\n"
   ]
  },
  {
   "cell_type": "code",
   "execution_count": null,
   "id": "bc8f250b-4d0b-482e-b462-fc08b50e1f50",
   "metadata": {},
   "outputs": [],
   "source": [
    "# Count plot for Source\n",
    "plt.figure(figsize=(6, 4))\n",
    "sns.countplot(x=df[\"Source\"])\n",
    "plt.title(\"Count Plot: Source (Industry vs Commodity)\")\n",
    "plt.tight_layout()\n",
    "plt.show()"
   ]
  },
  {
   "cell_type": "code",
   "execution_count": null,
   "id": "05c8a783-f894-44de-b022-b69d189f9961",
   "metadata": {},
   "outputs": [],
   "source": [
    "df.columns"
   ]
  },
  {
   "cell_type": "code",
   "execution_count": null,
   "id": "65bda3e6-df68-44b2-8ec8-ae652ead69d5",
   "metadata": {},
   "outputs": [],
   "source": [
    "df.select_dtypes(include=np.number).corr() # Checking correlation between numerical features "
   ]
  },
  {
   "cell_type": "code",
   "execution_count": null,
   "id": "0105fe62-e14f-41d6-9832-1a556c5050e3",
   "metadata": {},
   "outputs": [],
   "source": [
    "df.info() # Checking data types and non-null counts after mapping "
   ]
  },
  {
   "cell_type": "code",
   "execution_count": null,
   "id": "de87ee56-d7fb-483c-bd13-e7d33b729ceb",
   "metadata": {},
   "outputs": [],
   "source": [
    "# Correlation matrix \n",
    "plt.figure(figsize=(12, 8))\n",
    "sns.heatmap(df.select_dtypes(include=np.number).corr(), annot=True, cmap=\"coolwarm\")\n",
    "plt.title(\"Correlation Heatmap\")\n",
    "plt.show()"
   ]
  },
  {
   "cell_type": "raw",
   "id": "ebbc2970-4e8d-4f71-92e7-83bae81c2dec",
   "metadata": {
    "editable": true,
    "slideshow": {
     "slide_type": ""
    },
    "tags": []
   },
   "source": []
  }
 ],
 "metadata": {
  "kernelspec": {
   "display_name": "Python 3 (ipykernel)",
   "language": "python",
   "name": "python3"
  },
  "language_info": {
   "codemirror_mode": {
    "name": "ipython",
    "version": 3
   },
   "file_extension": ".py",
   "mimetype": "text/x-python",
   "name": "python",
   "nbconvert_exporter": "python",
   "pygments_lexer": "ipython3",
   "version": "3.12.4"
  }
 },
 "nbformat": 4,
 "nbformat_minor": 5
}
